{
 "cells": [
  {
   "cell_type": "code",
   "execution_count": 5,
   "id": "e1661779-9e1d-4157-a03a-851ca09a2c80",
   "metadata": {},
   "outputs": [],
   "source": [
    "#Import essential packages\n",
    "import pandas as pd\n",
    "import numpy as np\n",
    "import matplotlib.pyplot as plt\n",
    "import seaborn as sns\n",
    "import os "
   ]
  },
  {
   "cell_type": "code",
   "execution_count": 6,
   "id": "2c8fac8a-3e61-45a7-94e8-3668f329a255",
   "metadata": {},
   "outputs": [],
   "source": [
    "df = pd.read_csv('/Users/ajithkhan/Downloads/energy_efficiency_data.csv')"
   ]
  },
  {
   "cell_type": "markdown",
   "id": "ee195bb2-7208-4772-be5d-33199fa42f8a",
   "metadata": {},
   "source": [
    "#### Understanding the data "
   ]
  },
  {
   "cell_type": "code",
   "execution_count": 7,
   "id": "158acf43-0477-434f-bb77-b7e09d7f5aef",
   "metadata": {},
   "outputs": [
    {
     "data": {
      "text/plain": [
       "Index(['Relative_Compactness', 'Surface_Area', 'Wall_Area', 'Roof_Area',\n",
       "       'Overall_Height', 'Orientation', 'Glazing_Area',\n",
       "       'Glazing_Area_Distribution', 'Heating_Load', 'Cooling_Load'],\n",
       "      dtype='object')"
      ]
     },
     "execution_count": 7,
     "metadata": {},
     "output_type": "execute_result"
    }
   ],
   "source": [
    "df.columns"
   ]
  },
  {
   "cell_type": "code",
   "execution_count": 8,
   "id": "c07003ac-1986-4710-a74f-931968a6f736",
   "metadata": {},
   "outputs": [
    {
     "data": {
      "text/html": [
       "<div>\n",
       "<style scoped>\n",
       "    .dataframe tbody tr th:only-of-type {\n",
       "        vertical-align: middle;\n",
       "    }\n",
       "\n",
       "    .dataframe tbody tr th {\n",
       "        vertical-align: top;\n",
       "    }\n",
       "\n",
       "    .dataframe thead th {\n",
       "        text-align: right;\n",
       "    }\n",
       "</style>\n",
       "<table border=\"1\" class=\"dataframe\">\n",
       "  <thead>\n",
       "    <tr style=\"text-align: right;\">\n",
       "      <th></th>\n",
       "      <th>Relative_Compactness</th>\n",
       "      <th>Surface_Area</th>\n",
       "      <th>Wall_Area</th>\n",
       "      <th>Roof_Area</th>\n",
       "      <th>Overall_Height</th>\n",
       "      <th>Orientation</th>\n",
       "      <th>Glazing_Area</th>\n",
       "      <th>Glazing_Area_Distribution</th>\n",
       "      <th>Heating_Load</th>\n",
       "      <th>Cooling_Load</th>\n",
       "    </tr>\n",
       "  </thead>\n",
       "  <tbody>\n",
       "    <tr>\n",
       "      <th>0</th>\n",
       "      <td>0.98</td>\n",
       "      <td>514.5</td>\n",
       "      <td>294.0</td>\n",
       "      <td>110.25</td>\n",
       "      <td>7.0</td>\n",
       "      <td>2</td>\n",
       "      <td>0.0</td>\n",
       "      <td>0</td>\n",
       "      <td>15.55</td>\n",
       "      <td>21.33</td>\n",
       "    </tr>\n",
       "    <tr>\n",
       "      <th>1</th>\n",
       "      <td>0.98</td>\n",
       "      <td>514.5</td>\n",
       "      <td>294.0</td>\n",
       "      <td>110.25</td>\n",
       "      <td>7.0</td>\n",
       "      <td>3</td>\n",
       "      <td>0.0</td>\n",
       "      <td>0</td>\n",
       "      <td>15.55</td>\n",
       "      <td>21.33</td>\n",
       "    </tr>\n",
       "    <tr>\n",
       "      <th>2</th>\n",
       "      <td>0.98</td>\n",
       "      <td>514.5</td>\n",
       "      <td>294.0</td>\n",
       "      <td>110.25</td>\n",
       "      <td>7.0</td>\n",
       "      <td>4</td>\n",
       "      <td>0.0</td>\n",
       "      <td>0</td>\n",
       "      <td>15.55</td>\n",
       "      <td>21.33</td>\n",
       "    </tr>\n",
       "    <tr>\n",
       "      <th>3</th>\n",
       "      <td>0.98</td>\n",
       "      <td>514.5</td>\n",
       "      <td>294.0</td>\n",
       "      <td>110.25</td>\n",
       "      <td>7.0</td>\n",
       "      <td>5</td>\n",
       "      <td>0.0</td>\n",
       "      <td>0</td>\n",
       "      <td>15.55</td>\n",
       "      <td>21.33</td>\n",
       "    </tr>\n",
       "    <tr>\n",
       "      <th>4</th>\n",
       "      <td>0.90</td>\n",
       "      <td>563.5</td>\n",
       "      <td>318.5</td>\n",
       "      <td>122.50</td>\n",
       "      <td>7.0</td>\n",
       "      <td>2</td>\n",
       "      <td>0.0</td>\n",
       "      <td>0</td>\n",
       "      <td>20.84</td>\n",
       "      <td>28.28</td>\n",
       "    </tr>\n",
       "  </tbody>\n",
       "</table>\n",
       "</div>"
      ],
      "text/plain": [
       "   Relative_Compactness  Surface_Area  Wall_Area  Roof_Area  Overall_Height  \\\n",
       "0                  0.98         514.5      294.0     110.25             7.0   \n",
       "1                  0.98         514.5      294.0     110.25             7.0   \n",
       "2                  0.98         514.5      294.0     110.25             7.0   \n",
       "3                  0.98         514.5      294.0     110.25             7.0   \n",
       "4                  0.90         563.5      318.5     122.50             7.0   \n",
       "\n",
       "   Orientation  Glazing_Area  Glazing_Area_Distribution  Heating_Load  \\\n",
       "0            2           0.0                          0         15.55   \n",
       "1            3           0.0                          0         15.55   \n",
       "2            4           0.0                          0         15.55   \n",
       "3            5           0.0                          0         15.55   \n",
       "4            2           0.0                          0         20.84   \n",
       "\n",
       "   Cooling_Load  \n",
       "0         21.33  \n",
       "1         21.33  \n",
       "2         21.33  \n",
       "3         21.33  \n",
       "4         28.28  "
      ]
     },
     "execution_count": 8,
     "metadata": {},
     "output_type": "execute_result"
    }
   ],
   "source": [
    "df.head()"
   ]
  },
  {
   "cell_type": "code",
   "execution_count": 9,
   "id": "48ed94e8-612f-4fd4-919a-64df5d4680c9",
   "metadata": {},
   "outputs": [
    {
     "data": {
      "text/html": [
       "<div>\n",
       "<style scoped>\n",
       "    .dataframe tbody tr th:only-of-type {\n",
       "        vertical-align: middle;\n",
       "    }\n",
       "\n",
       "    .dataframe tbody tr th {\n",
       "        vertical-align: top;\n",
       "    }\n",
       "\n",
       "    .dataframe thead th {\n",
       "        text-align: right;\n",
       "    }\n",
       "</style>\n",
       "<table border=\"1\" class=\"dataframe\">\n",
       "  <thead>\n",
       "    <tr style=\"text-align: right;\">\n",
       "      <th></th>\n",
       "      <th>Relative_Compactness</th>\n",
       "      <th>Surface_Area</th>\n",
       "      <th>Wall_Area</th>\n",
       "      <th>Roof_Area</th>\n",
       "      <th>Overall_Height</th>\n",
       "      <th>Orientation</th>\n",
       "      <th>Glazing_Area</th>\n",
       "      <th>Glazing_Area_Distribution</th>\n",
       "      <th>Heating_Load</th>\n",
       "      <th>Cooling_Load</th>\n",
       "    </tr>\n",
       "  </thead>\n",
       "  <tbody>\n",
       "    <tr>\n",
       "      <th>count</th>\n",
       "      <td>768.000000</td>\n",
       "      <td>768.000000</td>\n",
       "      <td>768.000000</td>\n",
       "      <td>768.000000</td>\n",
       "      <td>768.00000</td>\n",
       "      <td>768.000000</td>\n",
       "      <td>768.000000</td>\n",
       "      <td>768.00000</td>\n",
       "      <td>768.000000</td>\n",
       "      <td>768.000000</td>\n",
       "    </tr>\n",
       "    <tr>\n",
       "      <th>mean</th>\n",
       "      <td>0.764167</td>\n",
       "      <td>671.708333</td>\n",
       "      <td>318.500000</td>\n",
       "      <td>176.604167</td>\n",
       "      <td>5.25000</td>\n",
       "      <td>3.500000</td>\n",
       "      <td>0.234375</td>\n",
       "      <td>2.81250</td>\n",
       "      <td>22.307201</td>\n",
       "      <td>24.587760</td>\n",
       "    </tr>\n",
       "    <tr>\n",
       "      <th>std</th>\n",
       "      <td>0.105777</td>\n",
       "      <td>88.086116</td>\n",
       "      <td>43.626481</td>\n",
       "      <td>45.165950</td>\n",
       "      <td>1.75114</td>\n",
       "      <td>1.118763</td>\n",
       "      <td>0.133221</td>\n",
       "      <td>1.55096</td>\n",
       "      <td>10.090196</td>\n",
       "      <td>9.513306</td>\n",
       "    </tr>\n",
       "    <tr>\n",
       "      <th>min</th>\n",
       "      <td>0.620000</td>\n",
       "      <td>514.500000</td>\n",
       "      <td>245.000000</td>\n",
       "      <td>110.250000</td>\n",
       "      <td>3.50000</td>\n",
       "      <td>2.000000</td>\n",
       "      <td>0.000000</td>\n",
       "      <td>0.00000</td>\n",
       "      <td>6.010000</td>\n",
       "      <td>10.900000</td>\n",
       "    </tr>\n",
       "    <tr>\n",
       "      <th>25%</th>\n",
       "      <td>0.682500</td>\n",
       "      <td>606.375000</td>\n",
       "      <td>294.000000</td>\n",
       "      <td>140.875000</td>\n",
       "      <td>3.50000</td>\n",
       "      <td>2.750000</td>\n",
       "      <td>0.100000</td>\n",
       "      <td>1.75000</td>\n",
       "      <td>12.992500</td>\n",
       "      <td>15.620000</td>\n",
       "    </tr>\n",
       "    <tr>\n",
       "      <th>50%</th>\n",
       "      <td>0.750000</td>\n",
       "      <td>673.750000</td>\n",
       "      <td>318.500000</td>\n",
       "      <td>183.750000</td>\n",
       "      <td>5.25000</td>\n",
       "      <td>3.500000</td>\n",
       "      <td>0.250000</td>\n",
       "      <td>3.00000</td>\n",
       "      <td>18.950000</td>\n",
       "      <td>22.080000</td>\n",
       "    </tr>\n",
       "    <tr>\n",
       "      <th>75%</th>\n",
       "      <td>0.830000</td>\n",
       "      <td>741.125000</td>\n",
       "      <td>343.000000</td>\n",
       "      <td>220.500000</td>\n",
       "      <td>7.00000</td>\n",
       "      <td>4.250000</td>\n",
       "      <td>0.400000</td>\n",
       "      <td>4.00000</td>\n",
       "      <td>31.667500</td>\n",
       "      <td>33.132500</td>\n",
       "    </tr>\n",
       "    <tr>\n",
       "      <th>max</th>\n",
       "      <td>0.980000</td>\n",
       "      <td>808.500000</td>\n",
       "      <td>416.500000</td>\n",
       "      <td>220.500000</td>\n",
       "      <td>7.00000</td>\n",
       "      <td>5.000000</td>\n",
       "      <td>0.400000</td>\n",
       "      <td>5.00000</td>\n",
       "      <td>43.100000</td>\n",
       "      <td>48.030000</td>\n",
       "    </tr>\n",
       "  </tbody>\n",
       "</table>\n",
       "</div>"
      ],
      "text/plain": [
       "       Relative_Compactness  Surface_Area   Wall_Area   Roof_Area  \\\n",
       "count            768.000000    768.000000  768.000000  768.000000   \n",
       "mean               0.764167    671.708333  318.500000  176.604167   \n",
       "std                0.105777     88.086116   43.626481   45.165950   \n",
       "min                0.620000    514.500000  245.000000  110.250000   \n",
       "25%                0.682500    606.375000  294.000000  140.875000   \n",
       "50%                0.750000    673.750000  318.500000  183.750000   \n",
       "75%                0.830000    741.125000  343.000000  220.500000   \n",
       "max                0.980000    808.500000  416.500000  220.500000   \n",
       "\n",
       "       Overall_Height  Orientation  Glazing_Area  Glazing_Area_Distribution  \\\n",
       "count       768.00000   768.000000    768.000000                  768.00000   \n",
       "mean          5.25000     3.500000      0.234375                    2.81250   \n",
       "std           1.75114     1.118763      0.133221                    1.55096   \n",
       "min           3.50000     2.000000      0.000000                    0.00000   \n",
       "25%           3.50000     2.750000      0.100000                    1.75000   \n",
       "50%           5.25000     3.500000      0.250000                    3.00000   \n",
       "75%           7.00000     4.250000      0.400000                    4.00000   \n",
       "max           7.00000     5.000000      0.400000                    5.00000   \n",
       "\n",
       "       Heating_Load  Cooling_Load  \n",
       "count    768.000000    768.000000  \n",
       "mean      22.307201     24.587760  \n",
       "std       10.090196      9.513306  \n",
       "min        6.010000     10.900000  \n",
       "25%       12.992500     15.620000  \n",
       "50%       18.950000     22.080000  \n",
       "75%       31.667500     33.132500  \n",
       "max       43.100000     48.030000  "
      ]
     },
     "execution_count": 9,
     "metadata": {},
     "output_type": "execute_result"
    }
   ],
   "source": [
    "df.describe()"
   ]
  },
  {
   "cell_type": "code",
   "execution_count": 10,
   "id": "d78e0aa3-74f4-4441-af06-f908c116d18a",
   "metadata": {},
   "outputs": [
    {
     "data": {
      "text/plain": [
       "Relative_Compactness         0\n",
       "Surface_Area                 0\n",
       "Wall_Area                    0\n",
       "Roof_Area                    0\n",
       "Overall_Height               0\n",
       "Orientation                  0\n",
       "Glazing_Area                 0\n",
       "Glazing_Area_Distribution    0\n",
       "Heating_Load                 0\n",
       "Cooling_Load                 0\n",
       "dtype: int64"
      ]
     },
     "execution_count": 10,
     "metadata": {},
     "output_type": "execute_result"
    }
   ],
   "source": [
    "df.isnull().sum()"
   ]
  },
  {
   "cell_type": "code",
   "execution_count": 11,
   "id": "6a11a23f-8d17-47a7-9190-979235c99d74",
   "metadata": {},
   "outputs": [
    {
     "data": {
      "text/plain": [
       "0.98    64\n",
       "0.90    64\n",
       "0.86    64\n",
       "0.82    64\n",
       "0.79    64\n",
       "0.76    64\n",
       "0.74    64\n",
       "0.71    64\n",
       "0.69    64\n",
       "0.66    64\n",
       "0.64    64\n",
       "0.62    64\n",
       "Name: Relative_Compactness, dtype: int64"
      ]
     },
     "execution_count": 11,
     "metadata": {},
     "output_type": "execute_result"
    }
   ],
   "source": [
    "df.Relative_Compactness.value_counts()"
   ]
  },
  {
   "cell_type": "code",
   "execution_count": 12,
   "id": "c64b5b42-cdbd-4067-b745-ea1d0164cbee",
   "metadata": {},
   "outputs": [
    {
     "data": {
      "text/plain": [
       "514.5    64\n",
       "563.5    64\n",
       "588.0    64\n",
       "612.5    64\n",
       "637.0    64\n",
       "661.5    64\n",
       "686.0    64\n",
       "710.5    64\n",
       "735.0    64\n",
       "759.5    64\n",
       "784.0    64\n",
       "808.5    64\n",
       "Name: Surface_Area, dtype: int64"
      ]
     },
     "execution_count": 12,
     "metadata": {},
     "output_type": "execute_result"
    }
   ],
   "source": [
    "df.Surface_Area.value_counts()"
   ]
  },
  {
   "cell_type": "markdown",
   "id": "f8c4a408-10e3-4730-a05a-c5875160079c",
   "metadata": {},
   "source": [
    "##### Observations\n",
    "\n",
    "1. This data is about the Heating and cooling load for a given building with their respective parameters\n",
    "2. We can build a KNN regression model, predicting the Heating and cooling load \n",
    "3. The Heating and cooling load will be an independent variable and the remaining will be the dependent variable. "
   ]
  },
  {
   "cell_type": "code",
   "execution_count": 13,
   "id": "a9f13bfb-ca97-439a-944e-6af7e3f74d31",
   "metadata": {},
   "outputs": [
    {
     "data": {
      "text/plain": [
       "Index(['Relative_Compactness', 'Surface_Area', 'Wall_Area', 'Roof_Area',\n",
       "       'Overall_Height', 'Orientation', 'Glazing_Area',\n",
       "       'Glazing_Area_Distribution', 'Heating_Load', 'Cooling_Load'],\n",
       "      dtype='object')"
      ]
     },
     "execution_count": 13,
     "metadata": {},
     "output_type": "execute_result"
    }
   ],
   "source": [
    "df.columns"
   ]
  },
  {
   "cell_type": "code",
   "execution_count": 14,
   "id": "1e0f1573-6a8d-4897-9876-b07200b21995",
   "metadata": {},
   "outputs": [
    {
     "data": {
      "image/png": "[encoded data removed]",
      "text/plain": [
       "<Figure size 1440x360 with 10 Axes>"
      ]
     },
     "metadata": {
      "needs_background": "light"
     },
     "output_type": "display_data"
    }
   ],
   "source": [
    "#Checking for any outliers \n",
    "\n",
    "fig,(axes) = plt.subplots(nrows=1, ncols=10, figsize=(20,5))\n",
    "sns.boxplot(data = df[['Relative_Compactness']], ax = axes[0]);\n",
    "sns.boxplot(data = df[['Surface_Area']], ax = axes[1]);\n",
    "sns.boxplot(data = df[['Wall_Area']], ax = axes[2]);\n",
    "sns.boxplot(data = df[['Roof_Area']], ax = axes[3]);\n",
    "sns.boxplot(data = df[['Overall_Height']], ax = axes[4]);\n",
    "sns.boxplot(data = df[['Orientation']], ax = axes[5]);\n",
    "sns.boxplot(data = df[['Glazing_Area']], ax = axes[6]);\n",
    "sns.boxplot(data = df[['Glazing_Area_Distribution']], ax = axes[7]);\n",
    "sns.boxplot(data = df[['Heating_Load']], ax = axes[8]);\n",
    "sns.boxplot(data = df[['Cooling_Load']], ax = axes[9]);\n"
   ]
  },
  {
   "cell_type": "markdown",
   "id": "7c2d74c9-ea40-4b5b-bfbe-8dcc6624cff9",
   "metadata": {},
   "source": [
    "##### Observation\n",
    "1. The dataset is very good and there are no significant outliers\n",
    "2. Lets build a regression model. "
   ]
  },
  {
   "cell_type": "code",
   "execution_count": 15,
   "id": "74f45d62-cb3d-473a-86c5-d1f0121f4770",
   "metadata": {},
   "outputs": [
    {
     "data": {
      "image/png": "[encoded data removed]",
      "text/plain": [
       "<Figure size 1080x432 with 2 Axes>"
      ]
     },
     "metadata": {
      "needs_background": "light"
     },
     "output_type": "display_data"
    }
   ],
   "source": [
    "#Finding the co relations using heatmaps\n",
    "\n",
    "df.corr()\n",
    "plt.figure(figsize=(15,6))\n",
    "sns.heatmap(df.corr(), cmap='coolwarm', annot=True);"
   ]
  },
  {
   "cell_type": "markdown",
   "id": "c98dc6f0-2ba1-46ee-9a49-ffff43d69171",
   "metadata": {},
   "source": [
    "#### Observations\n",
    "\n",
    "1. It is cleared that Overall_Height is the most significant independent variable in this dataset. \n",
    "2. Roof_area comes next and Surface_area comes later. \n",
    "3. Relative_Compactness is the least significant variable.\n",
    "4. Relative_compactness and surface_Area were highly co-related and same goes to Overall_height and Roof_Area. "
   ]
  },
  {
   "cell_type": "markdown",
   "id": "ad9a10a3-dbfa-4cc6-a852-44e27e24cc0b",
   "metadata": {},
   "source": [
    "#### Model building \n",
    "Lets try KNeighborsRegressor"
   ]
  },
  {
   "cell_type": "code",
   "execution_count": 55,
   "id": "91e86176-6ae5-42cd-8412-f0b184af2b95",
   "metadata": {},
   "outputs": [],
   "source": [
    "#import packages \n",
    "from sklearn.model_selection import train_test_split\n",
    "from sklearn import metrics\n",
    "from sklearn.neighbors import KNeighborsClassifier\n",
    "from sklearn.neighbors import KNeighborsRegressor"
   ]
  },
  {
   "cell_type": "code",
   "execution_count": 61,
   "id": "d4894755-2a58-4568-9e0f-96acf982a79a",
   "metadata": {},
   "outputs": [],
   "source": [
    "#Determinantion of X and y for Heating load\n",
    "X_heat = df.drop(['Heating_Load', 'Cooling_Load'], axis =1)\n",
    "y_heat = df['Heating_Load']"
   ]
  },
  {
   "cell_type": "code",
   "execution_count": 57,
   "id": "b39d383c-bddb-4f94-ad85-d3b76678bc1c",
   "metadata": {},
   "outputs": [],
   "source": [
    "#Splitting of Data\n",
    "Xtrain_heat, Xtest_heat, ytrain_heat, ytest_heat = train_test_split(X_heat,y_heat,test_size=0.2, random_state=4)"
   ]
  },
  {
   "cell_type": "code",
   "execution_count": 58,
   "id": "b875b802-f581-4b61-8987-b5bbe53b206b",
   "metadata": {},
   "outputs": [
    {
     "data": {
      "text/plain": [
       "KNeighborsRegressor()"
      ]
     },
     "execution_count": 58,
     "metadata": {},
     "output_type": "execute_result"
    }
   ],
   "source": [
    "#Calling the model and fitting the data\n",
    "knn = KNeighborsRegressor(n_neighbors=5)\n",
    "knn.fit(Xtrain_heat,ytrain_heat)"
   ]
  },
  {
   "cell_type": "code",
   "execution_count": 59,
   "id": "5a09af9b-9a41-4671-a114-28c02afd97f7",
   "metadata": {},
   "outputs": [],
   "source": [
    "#Prediction \n",
    "ypred_heat = knn.predict(Xtest_heat)"
   ]
  },
  {
   "cell_type": "code",
   "execution_count": 60,
   "id": "375b8f65-730c-46eb-acc4-e11949b2ce81",
   "metadata": {},
   "outputs": [
    {
     "data": {
      "text/plain": [
       "0.9703802626466934"
      ]
     },
     "execution_count": 60,
     "metadata": {},
     "output_type": "execute_result"
    }
   ],
   "source": [
    "#Accuracy score\n",
    "metrics.r2_score(ytest_heat,ypred_heat)"
   ]
  },
  {
   "cell_type": "markdown",
   "id": "f4123b52-dfd4-426a-88fc-b9c5d84a52e3",
   "metadata": {},
   "source": [
    "#### Conclusion\n",
    "The Regressing model is 97.03% accurate to predict the Heating load."
   ]
  },
  {
   "cell_type": "code",
   "execution_count": 71,
   "id": "78a5253f-8ae3-4001-a978-6777fa895ef4",
   "metadata": {},
   "outputs": [],
   "source": [
    "#Determinantion of X and y for Heating load\n",
    "X_cool = df.drop(['Heating_Load', 'Cooling_Load'], axis =1)\n",
    "y_cool = df['Cooling_Load']"
   ]
  },
  {
   "cell_type": "code",
   "execution_count": 72,
   "id": "23926ddb-e6af-4e08-925b-793aa6109df6",
   "metadata": {},
   "outputs": [],
   "source": [
    "#Splitting of Data\n",
    "Xtrain_cool, Xtest_cool, ytrain_cool, ytest_cool = train_test_split(X_cool,y_cool,test_size=0.2, random_state=4)"
   ]
  },
  {
   "cell_type": "code",
   "execution_count": 73,
   "id": "dc0195a3-dd46-4924-895f-42efe87170e8",
   "metadata": {},
   "outputs": [
    {
     "data": {
      "text/plain": [
       "KNeighborsRegressor()"
      ]
     },
     "execution_count": 73,
     "metadata": {},
     "output_type": "execute_result"
    }
   ],
   "source": [
    "#Calling the model and fitting the data\n",
    "knn = KNeighborsRegressor(n_neighbors=5)\n",
    "knn.fit(Xtrain_cool,ytrain_cool)"
   ]
  },
  {
   "cell_type": "code",
   "execution_count": 74,
   "id": "e0be3788-6379-4359-af59-47e83f8b6d0e",
   "metadata": {},
   "outputs": [],
   "source": [
    "#Prediction \n",
    "ypred_cool = knn.predict(Xtest_cool)"
   ]
  },
  {
   "cell_type": "code",
   "execution_count": 75,
   "id": "2c36ded4-0963-4627-b4b7-4592cce39b8d",
   "metadata": {},
   "outputs": [
    {
     "data": {
      "text/plain": [
       "0.9651040210503622"
      ]
     },
     "execution_count": 75,
     "metadata": {},
     "output_type": "execute_result"
    }
   ],
   "source": [
    "#Accuracy score\n",
    "metrics.r2_score(ytest_cool,ypred_cool)"
   ]
  },
  {
   "cell_type": "code",
   "execution_count": null,
   "id": "2c6da76f-4a6a-44ee-8d5b-7adfbe8c85f7",
   "metadata": {},
   "outputs": [],
   "source": []
  }
 ],
 "metadata": {
  "kernelspec": {
   "display_name": "Python 3 (ipykernel)",
   "language": "python",
   "name": "python3"
  },
  "language_info": {
   "codemirror_mode": {
    "name": "ipython",
    "version": 3
   },
   "file_extension": ".py",
   "mimetype": "text/x-python",
   "name": "python",
   "nbconvert_exporter": "python",
   "pygments_lexer": "ipython3",
   "version": "3.9.12"
  }
 },
 "nbformat": 4,
 "nbformat_minor": 5
}
